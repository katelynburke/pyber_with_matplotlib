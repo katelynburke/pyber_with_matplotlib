{
 "cells": [
  {
   "cell_type": "code",
   "execution_count": 25,
   "metadata": {},
   "outputs": [],
   "source": [
    "# Katelyn Burke - Analysis of Pyber Data\n",
    "\n",
    "# Observable trends based upon the data\n",
    "\n",
    "# 1) Based on the scatter plot (Pyber Ride Sharing data from 2016), the Pyber ride sharing company seems to\n",
    "# be most popular (higher number of drivers and rides) in urban areas. Cities that are considered urban, \n",
    "# typically have more drivers working for Pyber than in the rural and suburban cities that are represented. \n",
    "# By looking at the scatter plot, it seems that having more drivers in the city leads to a greater number of \n",
    "# rides in most cases. Urban cities typically have a larger ‘bubble size’ (correlates to the number of drivers) \n",
    "# than rural and suburban cities and show a higher average of rides on the graph. Urban areas typically have a \n",
    "# larger and more dense population, which could lead to a higher popularity and more use of Pyber ride sharing. \n",
    "\n",
    "\n",
    "# 2) Based on the ‘Drivers by City Type’ pie chart, the lowest percentage of Pyber drivers are driving in \n",
    "# rural areas (2.6% of drivers). Although there are fewer Pyber drivers in rural cities, the fares for their\n",
    "# customers are higher, on average, than in the urban and suburban cities represented (based on the 2016 \n",
    "# Pyber Ride Sharing scatter plot). The fares could be higher because customers are taking longer rides in \n",
    "# rural areas or because there is a higher demand for ride sharing than there are drivers in these areas.\n",
    "\n",
    "# 3) Based on the scatter plot, suburban Pyber rides seem to have the most moderate fares that typically \n",
    "# fall in between the higher fares of rural rides and the lower fares of urban rides. The use of Pyber ride\n",
    "# sharing seems to be more popular (higher number of drivers and rides) in suburban cities than in rural \n",
    "# cities. Suburban areas are typically closer to larger, urban, areas than rural areas are. Pyber customers \n",
    "# in suburban areas could be using Pyber ride sharing to access urban cities in close proximity to where they live. "
   ]
  },
  {
   "cell_type": "code",
   "execution_count": 26,
   "metadata": {},
   "outputs": [],
   "source": [
    "%matplotlib inline\n",
    "# Dependencies and Setup\n",
    "import matplotlib.pyplot as plt\n",
    "import pandas as pd\n",
    "import numpy as np\n",
    "import matplotlib.colors as colors\n",
    "from matplotlib.pyplot import figure\n",
    "\n",
    "# File to Load\n",
    "city_data_csv = \"pyber_city_data.csv\"\n",
    "ride_data_csv = \"pyber_ride_data.csv\"\n",
    "\n",
    "# Read the City and Ride Data\n",
    "city_data = pd.read_csv(city_data_csv)\n",
    "ride_data = pd.read_csv(ride_data_csv)"
   ]
  },
  {
   "cell_type": "code",
   "execution_count": 27,
   "metadata": {},
   "outputs": [
    {
     "data": {
      "text/html": [
       "<div>\n",
       "<style scoped>\n",
       "    .dataframe tbody tr th:only-of-type {\n",
       "        vertical-align: middle;\n",
       "    }\n",
       "\n",
       "    .dataframe tbody tr th {\n",
       "        vertical-align: top;\n",
       "    }\n",
       "\n",
       "    .dataframe thead th {\n",
       "        text-align: right;\n",
       "    }\n",
       "</style>\n",
       "<table border=\"1\" class=\"dataframe\">\n",
       "  <thead>\n",
       "    <tr style=\"text-align: right;\">\n",
       "      <th></th>\n",
       "      <th>city</th>\n",
       "      <th>driver_count</th>\n",
       "      <th>type</th>\n",
       "    </tr>\n",
       "  </thead>\n",
       "  <tbody>\n",
       "    <tr>\n",
       "      <th>0</th>\n",
       "      <td>Richardfort</td>\n",
       "      <td>38</td>\n",
       "      <td>Urban</td>\n",
       "    </tr>\n",
       "    <tr>\n",
       "      <th>1</th>\n",
       "      <td>Williamsstad</td>\n",
       "      <td>59</td>\n",
       "      <td>Urban</td>\n",
       "    </tr>\n",
       "    <tr>\n",
       "      <th>2</th>\n",
       "      <td>Port Angela</td>\n",
       "      <td>67</td>\n",
       "      <td>Urban</td>\n",
       "    </tr>\n",
       "    <tr>\n",
       "      <th>3</th>\n",
       "      <td>Rodneyfort</td>\n",
       "      <td>34</td>\n",
       "      <td>Urban</td>\n",
       "    </tr>\n",
       "    <tr>\n",
       "      <th>4</th>\n",
       "      <td>West Robert</td>\n",
       "      <td>39</td>\n",
       "      <td>Urban</td>\n",
       "    </tr>\n",
       "  </tbody>\n",
       "</table>\n",
       "</div>"
      ],
      "text/plain": [
       "           city  driver_count   type\n",
       "0   Richardfort            38  Urban\n",
       "1  Williamsstad            59  Urban\n",
       "2   Port Angela            67  Urban\n",
       "3    Rodneyfort            34  Urban\n",
       "4   West Robert            39  Urban"
      ]
     },
     "execution_count": 27,
     "metadata": {},
     "output_type": "execute_result"
    }
   ],
   "source": [
    "city_data.head()"
   ]
  },
  {
   "cell_type": "code",
   "execution_count": 28,
   "metadata": {},
   "outputs": [
    {
     "data": {
      "text/html": [
       "<div>\n",
       "<style scoped>\n",
       "    .dataframe tbody tr th:only-of-type {\n",
       "        vertical-align: middle;\n",
       "    }\n",
       "\n",
       "    .dataframe tbody tr th {\n",
       "        vertical-align: top;\n",
       "    }\n",
       "\n",
       "    .dataframe thead th {\n",
       "        text-align: right;\n",
       "    }\n",
       "</style>\n",
       "<table border=\"1\" class=\"dataframe\">\n",
       "  <thead>\n",
       "    <tr style=\"text-align: right;\">\n",
       "      <th></th>\n",
       "      <th>city</th>\n",
       "      <th>driver_count</th>\n",
       "      <th>type</th>\n",
       "    </tr>\n",
       "  </thead>\n",
       "  <tbody>\n",
       "    <tr>\n",
       "      <th>3</th>\n",
       "      <td>Rodneyfort</td>\n",
       "      <td>34</td>\n",
       "      <td>Urban</td>\n",
       "    </tr>\n",
       "  </tbody>\n",
       "</table>\n",
       "</div>"
      ],
      "text/plain": [
       "         city  driver_count   type\n",
       "3  Rodneyfort            34  Urban"
      ]
     },
     "execution_count": 28,
     "metadata": {},
     "output_type": "execute_result"
    }
   ],
   "source": [
    "# Rodneyfort is displayed once with the driver count\n",
    "city_data[city_data[\"city\"]==\"Rodneyfort\"]"
   ]
  },
  {
   "cell_type": "code",
   "execution_count": 29,
   "metadata": {},
   "outputs": [
    {
     "data": {
      "text/html": [
       "<div>\n",
       "<style scoped>\n",
       "    .dataframe tbody tr th:only-of-type {\n",
       "        vertical-align: middle;\n",
       "    }\n",
       "\n",
       "    .dataframe tbody tr th {\n",
       "        vertical-align: top;\n",
       "    }\n",
       "\n",
       "    .dataframe thead th {\n",
       "        text-align: right;\n",
       "    }\n",
       "</style>\n",
       "<table border=\"1\" class=\"dataframe\">\n",
       "  <thead>\n",
       "    <tr style=\"text-align: right;\">\n",
       "      <th></th>\n",
       "      <th>city</th>\n",
       "      <th>date</th>\n",
       "      <th>fare</th>\n",
       "      <th>ride_id</th>\n",
       "    </tr>\n",
       "  </thead>\n",
       "  <tbody>\n",
       "    <tr>\n",
       "      <th>3</th>\n",
       "      <td>Rodneyfort</td>\n",
       "      <td>2018-02-10 23:22:03</td>\n",
       "      <td>23.44</td>\n",
       "      <td>5149245426178</td>\n",
       "    </tr>\n",
       "    <tr>\n",
       "      <th>12</th>\n",
       "      <td>Rodneyfort</td>\n",
       "      <td>2018-03-02 18:03:20</td>\n",
       "      <td>44.26</td>\n",
       "      <td>2494064867705</td>\n",
       "    </tr>\n",
       "    <tr>\n",
       "      <th>34</th>\n",
       "      <td>Rodneyfort</td>\n",
       "      <td>2018-02-03 00:48:41</td>\n",
       "      <td>44.86</td>\n",
       "      <td>2325699544245</td>\n",
       "    </tr>\n",
       "    <tr>\n",
       "      <th>43</th>\n",
       "      <td>Rodneyfort</td>\n",
       "      <td>2018-04-25 20:57:43</td>\n",
       "      <td>21.70</td>\n",
       "      <td>8534600667414</td>\n",
       "    </tr>\n",
       "    <tr>\n",
       "      <th>91</th>\n",
       "      <td>Rodneyfort</td>\n",
       "      <td>2018-01-30 12:34:42</td>\n",
       "      <td>16.99</td>\n",
       "      <td>5778730523049</td>\n",
       "    </tr>\n",
       "  </tbody>\n",
       "</table>\n",
       "</div>"
      ],
      "text/plain": [
       "          city                 date   fare        ride_id\n",
       "3   Rodneyfort  2018-02-10 23:22:03  23.44  5149245426178\n",
       "12  Rodneyfort  2018-03-02 18:03:20  44.26  2494064867705\n",
       "34  Rodneyfort  2018-02-03 00:48:41  44.86  2325699544245\n",
       "43  Rodneyfort  2018-04-25 20:57:43  21.70  8534600667414\n",
       "91  Rodneyfort  2018-01-30 12:34:42  16.99  5778730523049"
      ]
     },
     "execution_count": 29,
     "metadata": {},
     "output_type": "execute_result"
    }
   ],
   "source": [
    "ride_data[ride_data[\"city\"]==\"Rodneyfort\"].head()"
   ]
  },
  {
   "cell_type": "code",
   "execution_count": 30,
   "metadata": {
    "scrolled": true
   },
   "outputs": [
    {
     "data": {
      "text/plain": [
       "False"
      ]
     },
     "execution_count": 30,
     "metadata": {},
     "output_type": "execute_result"
    }
   ],
   "source": [
    "# Shows that the number of rows for each data set is not equal\n",
    "len(city_data) == len(ride_data)"
   ]
  },
  {
   "cell_type": "code",
   "execution_count": 31,
   "metadata": {},
   "outputs": [
    {
     "data": {
      "text/html": [
       "<div>\n",
       "<style scoped>\n",
       "    .dataframe tbody tr th:only-of-type {\n",
       "        vertical-align: middle;\n",
       "    }\n",
       "\n",
       "    .dataframe tbody tr th {\n",
       "        vertical-align: top;\n",
       "    }\n",
       "\n",
       "    .dataframe thead th {\n",
       "        text-align: right;\n",
       "    }\n",
       "</style>\n",
       "<table border=\"1\" class=\"dataframe\">\n",
       "  <thead>\n",
       "    <tr style=\"text-align: right;\">\n",
       "      <th></th>\n",
       "      <th>city</th>\n",
       "      <th>driver_count</th>\n",
       "      <th>date</th>\n",
       "      <th>fare</th>\n",
       "      <th>ride_id</th>\n",
       "    </tr>\n",
       "    <tr>\n",
       "      <th>type</th>\n",
       "      <th></th>\n",
       "      <th></th>\n",
       "      <th></th>\n",
       "      <th></th>\n",
       "      <th></th>\n",
       "    </tr>\n",
       "  </thead>\n",
       "  <tbody>\n",
       "    <tr>\n",
       "      <th>Urban</th>\n",
       "      <td>Richardfort</td>\n",
       "      <td>38</td>\n",
       "      <td>2018-02-24 08:40:38</td>\n",
       "      <td>13.93</td>\n",
       "      <td>5628545007794</td>\n",
       "    </tr>\n",
       "    <tr>\n",
       "      <th>Urban</th>\n",
       "      <td>Richardfort</td>\n",
       "      <td>38</td>\n",
       "      <td>2018-02-13 12:46:07</td>\n",
       "      <td>14.00</td>\n",
       "      <td>910050116494</td>\n",
       "    </tr>\n",
       "    <tr>\n",
       "      <th>Urban</th>\n",
       "      <td>Richardfort</td>\n",
       "      <td>38</td>\n",
       "      <td>2018-02-16 13:52:19</td>\n",
       "      <td>17.92</td>\n",
       "      <td>820639054416</td>\n",
       "    </tr>\n",
       "    <tr>\n",
       "      <th>Urban</th>\n",
       "      <td>Richardfort</td>\n",
       "      <td>38</td>\n",
       "      <td>2018-02-01 20:18:28</td>\n",
       "      <td>10.26</td>\n",
       "      <td>9554935945413</td>\n",
       "    </tr>\n",
       "    <tr>\n",
       "      <th>Urban</th>\n",
       "      <td>Richardfort</td>\n",
       "      <td>38</td>\n",
       "      <td>2018-04-17 02:26:37</td>\n",
       "      <td>23.00</td>\n",
       "      <td>720020655850</td>\n",
       "    </tr>\n",
       "    <tr>\n",
       "      <th>Urban</th>\n",
       "      <td>Richardfort</td>\n",
       "      <td>38</td>\n",
       "      <td>2018-04-21 03:44:04</td>\n",
       "      <td>9.54</td>\n",
       "      <td>3698147103219</td>\n",
       "    </tr>\n",
       "    <tr>\n",
       "      <th>Urban</th>\n",
       "      <td>Richardfort</td>\n",
       "      <td>38</td>\n",
       "      <td>2018-02-03 00:14:26</td>\n",
       "      <td>29.04</td>\n",
       "      <td>4982665519010</td>\n",
       "    </tr>\n",
       "    <tr>\n",
       "      <th>Urban</th>\n",
       "      <td>Richardfort</td>\n",
       "      <td>38</td>\n",
       "      <td>2018-02-08 15:50:12</td>\n",
       "      <td>16.55</td>\n",
       "      <td>2270463070874</td>\n",
       "    </tr>\n",
       "    <tr>\n",
       "      <th>Urban</th>\n",
       "      <td>Richardfort</td>\n",
       "      <td>38</td>\n",
       "      <td>2018-04-03 15:07:34</td>\n",
       "      <td>40.77</td>\n",
       "      <td>9496210735824</td>\n",
       "    </tr>\n",
       "    <tr>\n",
       "      <th>Urban</th>\n",
       "      <td>Richardfort</td>\n",
       "      <td>38</td>\n",
       "      <td>2018-02-19 14:09:20</td>\n",
       "      <td>27.11</td>\n",
       "      <td>8690324801449</td>\n",
       "    </tr>\n",
       "    <tr>\n",
       "      <th>Urban</th>\n",
       "      <td>Richardfort</td>\n",
       "      <td>38</td>\n",
       "      <td>2018-04-22 03:06:56</td>\n",
       "      <td>39.74</td>\n",
       "      <td>4081388893008</td>\n",
       "    </tr>\n",
       "    <tr>\n",
       "      <th>Urban</th>\n",
       "      <td>Richardfort</td>\n",
       "      <td>38</td>\n",
       "      <td>2018-01-31 14:51:01</td>\n",
       "      <td>43.92</td>\n",
       "      <td>4066949857460</td>\n",
       "    </tr>\n",
       "    <tr>\n",
       "      <th>Urban</th>\n",
       "      <td>Richardfort</td>\n",
       "      <td>38</td>\n",
       "      <td>2018-03-04 22:13:57</td>\n",
       "      <td>14.83</td>\n",
       "      <td>9474112834050</td>\n",
       "    </tr>\n",
       "    <tr>\n",
       "      <th>Urban</th>\n",
       "      <td>Richardfort</td>\n",
       "      <td>38</td>\n",
       "      <td>2018-03-28 19:33:00</td>\n",
       "      <td>7.75</td>\n",
       "      <td>5539056178883</td>\n",
       "    </tr>\n",
       "    <tr>\n",
       "      <th>Urban</th>\n",
       "      <td>Richardfort</td>\n",
       "      <td>38</td>\n",
       "      <td>2018-02-14 03:27:28</td>\n",
       "      <td>44.11</td>\n",
       "      <td>2503858662225</td>\n",
       "    </tr>\n",
       "    <tr>\n",
       "      <th>Urban</th>\n",
       "      <td>Richardfort</td>\n",
       "      <td>38</td>\n",
       "      <td>2018-04-27 11:59:25</td>\n",
       "      <td>30.31</td>\n",
       "      <td>6106446829435</td>\n",
       "    </tr>\n",
       "    <tr>\n",
       "      <th>Urban</th>\n",
       "      <td>Richardfort</td>\n",
       "      <td>38</td>\n",
       "      <td>2018-03-03 11:57:24</td>\n",
       "      <td>11.42</td>\n",
       "      <td>2916078036620</td>\n",
       "    </tr>\n",
       "    <tr>\n",
       "      <th>Urban</th>\n",
       "      <td>Richardfort</td>\n",
       "      <td>38</td>\n",
       "      <td>2018-01-13 10:08:54</td>\n",
       "      <td>25.81</td>\n",
       "      <td>9110913538598</td>\n",
       "    </tr>\n",
       "    <tr>\n",
       "      <th>Urban</th>\n",
       "      <td>Richardfort</td>\n",
       "      <td>38</td>\n",
       "      <td>2018-03-06 12:53:05</td>\n",
       "      <td>8.28</td>\n",
       "      <td>5127600643309</td>\n",
       "    </tr>\n",
       "    <tr>\n",
       "      <th>Urban</th>\n",
       "      <td>Richardfort</td>\n",
       "      <td>38</td>\n",
       "      <td>2018-02-05 16:12:04</td>\n",
       "      <td>42.22</td>\n",
       "      <td>4051093040264</td>\n",
       "    </tr>\n",
       "    <tr>\n",
       "      <th>Urban</th>\n",
       "      <td>Richardfort</td>\n",
       "      <td>38</td>\n",
       "      <td>2018-04-04 15:04:56</td>\n",
       "      <td>16.35</td>\n",
       "      <td>6077906760851</td>\n",
       "    </tr>\n",
       "    <tr>\n",
       "      <th>Urban</th>\n",
       "      <td>Richardfort</td>\n",
       "      <td>38</td>\n",
       "      <td>2018-03-05 16:00:59</td>\n",
       "      <td>4.85</td>\n",
       "      <td>3291539624738</td>\n",
       "    </tr>\n",
       "    <tr>\n",
       "      <th>Urban</th>\n",
       "      <td>Richardfort</td>\n",
       "      <td>38</td>\n",
       "      <td>2018-04-14 11:56:28</td>\n",
       "      <td>43.01</td>\n",
       "      <td>7636011510547</td>\n",
       "    </tr>\n",
       "    <tr>\n",
       "      <th>Urban</th>\n",
       "      <td>Richardfort</td>\n",
       "      <td>38</td>\n",
       "      <td>2018-01-21 23:20:53</td>\n",
       "      <td>10.91</td>\n",
       "      <td>3567611375530</td>\n",
       "    </tr>\n",
       "    <tr>\n",
       "      <th>Urban</th>\n",
       "      <td>Richardfort</td>\n",
       "      <td>38</td>\n",
       "      <td>2018-03-16 23:00:51</td>\n",
       "      <td>21.39</td>\n",
       "      <td>237473464569</td>\n",
       "    </tr>\n",
       "    <tr>\n",
       "      <th>Urban</th>\n",
       "      <td>Richardfort</td>\n",
       "      <td>38</td>\n",
       "      <td>2018-03-22 04:41:04</td>\n",
       "      <td>16.35</td>\n",
       "      <td>5934239154720</td>\n",
       "    </tr>\n",
       "    <tr>\n",
       "      <th>Urban</th>\n",
       "      <td>Richardfort</td>\n",
       "      <td>38</td>\n",
       "      <td>2018-01-03 01:06:17</td>\n",
       "      <td>5.32</td>\n",
       "      <td>3268844473610</td>\n",
       "    </tr>\n",
       "    <tr>\n",
       "      <th>Urban</th>\n",
       "      <td>Richardfort</td>\n",
       "      <td>38</td>\n",
       "      <td>2018-03-29 15:16:01</td>\n",
       "      <td>37.76</td>\n",
       "      <td>4802688422688</td>\n",
       "    </tr>\n",
       "    <tr>\n",
       "      <th>Urban</th>\n",
       "      <td>Williamsstad</td>\n",
       "      <td>59</td>\n",
       "      <td>2018-01-23 17:51:24</td>\n",
       "      <td>19.62</td>\n",
       "      <td>125986195523</td>\n",
       "    </tr>\n",
       "    <tr>\n",
       "      <th>Urban</th>\n",
       "      <td>Williamsstad</td>\n",
       "      <td>59</td>\n",
       "      <td>2018-03-29 21:43:04</td>\n",
       "      <td>35.58</td>\n",
       "      <td>4747780858464</td>\n",
       "    </tr>\n",
       "    <tr>\n",
       "      <th>...</th>\n",
       "      <td>...</td>\n",
       "      <td>...</td>\n",
       "      <td>...</td>\n",
       "      <td>...</td>\n",
       "      <td>...</td>\n",
       "    </tr>\n",
       "    <tr>\n",
       "      <th>Rural</th>\n",
       "      <td>Bradshawfurt</td>\n",
       "      <td>7</td>\n",
       "      <td>2018-03-24 18:53:18</td>\n",
       "      <td>57.51</td>\n",
       "      <td>2301998876294</td>\n",
       "    </tr>\n",
       "    <tr>\n",
       "      <th>Rural</th>\n",
       "      <td>Bradshawfurt</td>\n",
       "      <td>7</td>\n",
       "      <td>2018-03-24 07:34:03</td>\n",
       "      <td>19.89</td>\n",
       "      <td>7867402022145</td>\n",
       "    </tr>\n",
       "    <tr>\n",
       "      <th>Rural</th>\n",
       "      <td>Bradshawfurt</td>\n",
       "      <td>7</td>\n",
       "      <td>2018-02-18 22:21:26</td>\n",
       "      <td>34.32</td>\n",
       "      <td>8881996813087</td>\n",
       "    </tr>\n",
       "    <tr>\n",
       "      <th>Rural</th>\n",
       "      <td>Bradshawfurt</td>\n",
       "      <td>7</td>\n",
       "      <td>2018-04-08 13:46:03</td>\n",
       "      <td>55.19</td>\n",
       "      <td>1742954306812</td>\n",
       "    </tr>\n",
       "    <tr>\n",
       "      <th>Rural</th>\n",
       "      <td>Bradshawfurt</td>\n",
       "      <td>7</td>\n",
       "      <td>2018-04-07 21:12:49</td>\n",
       "      <td>49.70</td>\n",
       "      <td>5088814323688</td>\n",
       "    </tr>\n",
       "    <tr>\n",
       "      <th>Rural</th>\n",
       "      <td>Bradshawfurt</td>\n",
       "      <td>7</td>\n",
       "      <td>2018-02-23 12:00:59</td>\n",
       "      <td>37.05</td>\n",
       "      <td>2068423024643</td>\n",
       "    </tr>\n",
       "    <tr>\n",
       "      <th>Rural</th>\n",
       "      <td>Bradshawfurt</td>\n",
       "      <td>7</td>\n",
       "      <td>2018-04-10 09:47:54</td>\n",
       "      <td>19.07</td>\n",
       "      <td>739305106253</td>\n",
       "    </tr>\n",
       "    <tr>\n",
       "      <th>Rural</th>\n",
       "      <td>Bradshawfurt</td>\n",
       "      <td>7</td>\n",
       "      <td>2018-01-19 20:21:54</td>\n",
       "      <td>56.78</td>\n",
       "      <td>1253403506597</td>\n",
       "    </tr>\n",
       "    <tr>\n",
       "      <th>Rural</th>\n",
       "      <td>Bradshawfurt</td>\n",
       "      <td>7</td>\n",
       "      <td>2018-01-30 10:55:23</td>\n",
       "      <td>51.39</td>\n",
       "      <td>1328274868072</td>\n",
       "    </tr>\n",
       "    <tr>\n",
       "      <th>Rural</th>\n",
       "      <td>New Ryantown</td>\n",
       "      <td>2</td>\n",
       "      <td>2018-01-27 17:33:41</td>\n",
       "      <td>42.68</td>\n",
       "      <td>7994603753131</td>\n",
       "    </tr>\n",
       "    <tr>\n",
       "      <th>Rural</th>\n",
       "      <td>New Ryantown</td>\n",
       "      <td>2</td>\n",
       "      <td>2018-04-18 19:43:54</td>\n",
       "      <td>42.97</td>\n",
       "      <td>230914178346</td>\n",
       "    </tr>\n",
       "    <tr>\n",
       "      <th>Rural</th>\n",
       "      <td>New Ryantown</td>\n",
       "      <td>2</td>\n",
       "      <td>2018-02-04 23:54:51</td>\n",
       "      <td>45.70</td>\n",
       "      <td>3570428225530</td>\n",
       "    </tr>\n",
       "    <tr>\n",
       "      <th>Rural</th>\n",
       "      <td>New Ryantown</td>\n",
       "      <td>2</td>\n",
       "      <td>2018-04-30 01:50:44</td>\n",
       "      <td>50.81</td>\n",
       "      <td>5357550405010</td>\n",
       "    </tr>\n",
       "    <tr>\n",
       "      <th>Rural</th>\n",
       "      <td>New Ryantown</td>\n",
       "      <td>2</td>\n",
       "      <td>2018-04-05 21:38:18</td>\n",
       "      <td>50.98</td>\n",
       "      <td>4834855490008</td>\n",
       "    </tr>\n",
       "    <tr>\n",
       "      <th>Rural</th>\n",
       "      <td>New Ryantown</td>\n",
       "      <td>2</td>\n",
       "      <td>2018-05-05 19:29:38</td>\n",
       "      <td>26.53</td>\n",
       "      <td>2302209966018</td>\n",
       "    </tr>\n",
       "    <tr>\n",
       "      <th>Rural</th>\n",
       "      <td>Randallchester</td>\n",
       "      <td>9</td>\n",
       "      <td>2018-04-13 11:13:31</td>\n",
       "      <td>43.22</td>\n",
       "      <td>1076079536213</td>\n",
       "    </tr>\n",
       "    <tr>\n",
       "      <th>Rural</th>\n",
       "      <td>Randallchester</td>\n",
       "      <td>9</td>\n",
       "      <td>2018-02-19 03:52:47</td>\n",
       "      <td>58.55</td>\n",
       "      <td>8004803682564</td>\n",
       "    </tr>\n",
       "    <tr>\n",
       "      <th>Rural</th>\n",
       "      <td>Randallchester</td>\n",
       "      <td>9</td>\n",
       "      <td>2018-02-11 05:42:29</td>\n",
       "      <td>25.78</td>\n",
       "      <td>9010611749008</td>\n",
       "    </tr>\n",
       "    <tr>\n",
       "      <th>Rural</th>\n",
       "      <td>Randallchester</td>\n",
       "      <td>9</td>\n",
       "      <td>2018-03-25 13:36:46</td>\n",
       "      <td>10.37</td>\n",
       "      <td>3216382725494</td>\n",
       "    </tr>\n",
       "    <tr>\n",
       "      <th>Rural</th>\n",
       "      <td>Randallchester</td>\n",
       "      <td>9</td>\n",
       "      <td>2018-04-07 23:42:07</td>\n",
       "      <td>10.79</td>\n",
       "      <td>1615474447641</td>\n",
       "    </tr>\n",
       "    <tr>\n",
       "      <th>Rural</th>\n",
       "      <td>Jessicaport</td>\n",
       "      <td>1</td>\n",
       "      <td>2018-01-01 09:45:36</td>\n",
       "      <td>43.69</td>\n",
       "      <td>2424875833354</td>\n",
       "    </tr>\n",
       "    <tr>\n",
       "      <th>Rural</th>\n",
       "      <td>Jessicaport</td>\n",
       "      <td>1</td>\n",
       "      <td>2018-01-14 07:09:17</td>\n",
       "      <td>18.05</td>\n",
       "      <td>5405362355006</td>\n",
       "    </tr>\n",
       "    <tr>\n",
       "      <th>Rural</th>\n",
       "      <td>Jessicaport</td>\n",
       "      <td>1</td>\n",
       "      <td>2018-04-13 16:08:11</td>\n",
       "      <td>39.89</td>\n",
       "      <td>6511242590852</td>\n",
       "    </tr>\n",
       "    <tr>\n",
       "      <th>Rural</th>\n",
       "      <td>Jessicaport</td>\n",
       "      <td>1</td>\n",
       "      <td>2018-03-18 16:59:40</td>\n",
       "      <td>33.72</td>\n",
       "      <td>3046889917159</td>\n",
       "    </tr>\n",
       "    <tr>\n",
       "      <th>Rural</th>\n",
       "      <td>Jessicaport</td>\n",
       "      <td>1</td>\n",
       "      <td>2018-05-01 08:14:47</td>\n",
       "      <td>22.44</td>\n",
       "      <td>3725278487786</td>\n",
       "    </tr>\n",
       "    <tr>\n",
       "      <th>Rural</th>\n",
       "      <td>Jessicaport</td>\n",
       "      <td>1</td>\n",
       "      <td>2018-01-31 17:57:25</td>\n",
       "      <td>58.29</td>\n",
       "      <td>623154556195</td>\n",
       "    </tr>\n",
       "    <tr>\n",
       "      <th>Rural</th>\n",
       "      <td>South Saramouth</td>\n",
       "      <td>7</td>\n",
       "      <td>2018-02-20 16:32:36</td>\n",
       "      <td>44.29</td>\n",
       "      <td>3622365199969</td>\n",
       "    </tr>\n",
       "    <tr>\n",
       "      <th>Rural</th>\n",
       "      <td>South Saramouth</td>\n",
       "      <td>7</td>\n",
       "      <td>2018-01-28 15:55:33</td>\n",
       "      <td>31.25</td>\n",
       "      <td>7118046558393</td>\n",
       "    </tr>\n",
       "    <tr>\n",
       "      <th>Rural</th>\n",
       "      <td>South Saramouth</td>\n",
       "      <td>7</td>\n",
       "      <td>2018-03-27 21:07:16</td>\n",
       "      <td>11.87</td>\n",
       "      <td>170351888128</td>\n",
       "    </tr>\n",
       "    <tr>\n",
       "      <th>Rural</th>\n",
       "      <td>South Saramouth</td>\n",
       "      <td>7</td>\n",
       "      <td>2018-04-12 18:11:50</td>\n",
       "      <td>57.23</td>\n",
       "      <td>5081198789583</td>\n",
       "    </tr>\n",
       "  </tbody>\n",
       "</table>\n",
       "<p>2375 rows × 5 columns</p>\n",
       "</div>"
      ],
      "text/plain": [
       "                  city  driver_count                 date   fare  \\\n",
       "type                                                               \n",
       "Urban      Richardfort            38  2018-02-24 08:40:38  13.93   \n",
       "Urban      Richardfort            38  2018-02-13 12:46:07  14.00   \n",
       "Urban      Richardfort            38  2018-02-16 13:52:19  17.92   \n",
       "Urban      Richardfort            38  2018-02-01 20:18:28  10.26   \n",
       "Urban      Richardfort            38  2018-04-17 02:26:37  23.00   \n",
       "Urban      Richardfort            38  2018-04-21 03:44:04   9.54   \n",
       "Urban      Richardfort            38  2018-02-03 00:14:26  29.04   \n",
       "Urban      Richardfort            38  2018-02-08 15:50:12  16.55   \n",
       "Urban      Richardfort            38  2018-04-03 15:07:34  40.77   \n",
       "Urban      Richardfort            38  2018-02-19 14:09:20  27.11   \n",
       "Urban      Richardfort            38  2018-04-22 03:06:56  39.74   \n",
       "Urban      Richardfort            38  2018-01-31 14:51:01  43.92   \n",
       "Urban      Richardfort            38  2018-03-04 22:13:57  14.83   \n",
       "Urban      Richardfort            38  2018-03-28 19:33:00   7.75   \n",
       "Urban      Richardfort            38  2018-02-14 03:27:28  44.11   \n",
       "Urban      Richardfort            38  2018-04-27 11:59:25  30.31   \n",
       "Urban      Richardfort            38  2018-03-03 11:57:24  11.42   \n",
       "Urban      Richardfort            38  2018-01-13 10:08:54  25.81   \n",
       "Urban      Richardfort            38  2018-03-06 12:53:05   8.28   \n",
       "Urban      Richardfort            38  2018-02-05 16:12:04  42.22   \n",
       "Urban      Richardfort            38  2018-04-04 15:04:56  16.35   \n",
       "Urban      Richardfort            38  2018-03-05 16:00:59   4.85   \n",
       "Urban      Richardfort            38  2018-04-14 11:56:28  43.01   \n",
       "Urban      Richardfort            38  2018-01-21 23:20:53  10.91   \n",
       "Urban      Richardfort            38  2018-03-16 23:00:51  21.39   \n",
       "Urban      Richardfort            38  2018-03-22 04:41:04  16.35   \n",
       "Urban      Richardfort            38  2018-01-03 01:06:17   5.32   \n",
       "Urban      Richardfort            38  2018-03-29 15:16:01  37.76   \n",
       "Urban     Williamsstad            59  2018-01-23 17:51:24  19.62   \n",
       "Urban     Williamsstad            59  2018-03-29 21:43:04  35.58   \n",
       "...                ...           ...                  ...    ...   \n",
       "Rural     Bradshawfurt             7  2018-03-24 18:53:18  57.51   \n",
       "Rural     Bradshawfurt             7  2018-03-24 07:34:03  19.89   \n",
       "Rural     Bradshawfurt             7  2018-02-18 22:21:26  34.32   \n",
       "Rural     Bradshawfurt             7  2018-04-08 13:46:03  55.19   \n",
       "Rural     Bradshawfurt             7  2018-04-07 21:12:49  49.70   \n",
       "Rural     Bradshawfurt             7  2018-02-23 12:00:59  37.05   \n",
       "Rural     Bradshawfurt             7  2018-04-10 09:47:54  19.07   \n",
       "Rural     Bradshawfurt             7  2018-01-19 20:21:54  56.78   \n",
       "Rural     Bradshawfurt             7  2018-01-30 10:55:23  51.39   \n",
       "Rural     New Ryantown             2  2018-01-27 17:33:41  42.68   \n",
       "Rural     New Ryantown             2  2018-04-18 19:43:54  42.97   \n",
       "Rural     New Ryantown             2  2018-02-04 23:54:51  45.70   \n",
       "Rural     New Ryantown             2  2018-04-30 01:50:44  50.81   \n",
       "Rural     New Ryantown             2  2018-04-05 21:38:18  50.98   \n",
       "Rural     New Ryantown             2  2018-05-05 19:29:38  26.53   \n",
       "Rural   Randallchester             9  2018-04-13 11:13:31  43.22   \n",
       "Rural   Randallchester             9  2018-02-19 03:52:47  58.55   \n",
       "Rural   Randallchester             9  2018-02-11 05:42:29  25.78   \n",
       "Rural   Randallchester             9  2018-03-25 13:36:46  10.37   \n",
       "Rural   Randallchester             9  2018-04-07 23:42:07  10.79   \n",
       "Rural      Jessicaport             1  2018-01-01 09:45:36  43.69   \n",
       "Rural      Jessicaport             1  2018-01-14 07:09:17  18.05   \n",
       "Rural      Jessicaport             1  2018-04-13 16:08:11  39.89   \n",
       "Rural      Jessicaport             1  2018-03-18 16:59:40  33.72   \n",
       "Rural      Jessicaport             1  2018-05-01 08:14:47  22.44   \n",
       "Rural      Jessicaport             1  2018-01-31 17:57:25  58.29   \n",
       "Rural  South Saramouth             7  2018-02-20 16:32:36  44.29   \n",
       "Rural  South Saramouth             7  2018-01-28 15:55:33  31.25   \n",
       "Rural  South Saramouth             7  2018-03-27 21:07:16  11.87   \n",
       "Rural  South Saramouth             7  2018-04-12 18:11:50  57.23   \n",
       "\n",
       "             ride_id  \n",
       "type                  \n",
       "Urban  5628545007794  \n",
       "Urban   910050116494  \n",
       "Urban   820639054416  \n",
       "Urban  9554935945413  \n",
       "Urban   720020655850  \n",
       "Urban  3698147103219  \n",
       "Urban  4982665519010  \n",
       "Urban  2270463070874  \n",
       "Urban  9496210735824  \n",
       "Urban  8690324801449  \n",
       "Urban  4081388893008  \n",
       "Urban  4066949857460  \n",
       "Urban  9474112834050  \n",
       "Urban  5539056178883  \n",
       "Urban  2503858662225  \n",
       "Urban  6106446829435  \n",
       "Urban  2916078036620  \n",
       "Urban  9110913538598  \n",
       "Urban  5127600643309  \n",
       "Urban  4051093040264  \n",
       "Urban  6077906760851  \n",
       "Urban  3291539624738  \n",
       "Urban  7636011510547  \n",
       "Urban  3567611375530  \n",
       "Urban   237473464569  \n",
       "Urban  5934239154720  \n",
       "Urban  3268844473610  \n",
       "Urban  4802688422688  \n",
       "Urban   125986195523  \n",
       "Urban  4747780858464  \n",
       "...              ...  \n",
       "Rural  2301998876294  \n",
       "Rural  7867402022145  \n",
       "Rural  8881996813087  \n",
       "Rural  1742954306812  \n",
       "Rural  5088814323688  \n",
       "Rural  2068423024643  \n",
       "Rural   739305106253  \n",
       "Rural  1253403506597  \n",
       "Rural  1328274868072  \n",
       "Rural  7994603753131  \n",
       "Rural   230914178346  \n",
       "Rural  3570428225530  \n",
       "Rural  5357550405010  \n",
       "Rural  4834855490008  \n",
       "Rural  2302209966018  \n",
       "Rural  1076079536213  \n",
       "Rural  8004803682564  \n",
       "Rural  9010611749008  \n",
       "Rural  3216382725494  \n",
       "Rural  1615474447641  \n",
       "Rural  2424875833354  \n",
       "Rural  5405362355006  \n",
       "Rural  6511242590852  \n",
       "Rural  3046889917159  \n",
       "Rural  3725278487786  \n",
       "Rural   623154556195  \n",
       "Rural  3622365199969  \n",
       "Rural  7118046558393  \n",
       "Rural   170351888128  \n",
       "Rural  5081198789583  \n",
       "\n",
       "[2375 rows x 5 columns]"
      ]
     },
     "execution_count": 31,
     "metadata": {},
     "output_type": "execute_result"
    }
   ],
   "source": [
    "# Combine the data into a single dataset\n",
    "pyber_data_complete = pd.merge(city_data, ride_data, how='outer', on=\"city\")\n",
    "pyber_data_complete.set_index('type')\n",
    "\n",
    "# pyber_data_complete[pyber_data_complete[\"city\"]==\"Rodneyfort\"]"
   ]
  },
  {
   "cell_type": "code",
   "execution_count": 32,
   "metadata": {},
   "outputs": [
    {
     "data": {
      "text/plain": [
       "city            2375\n",
       "driver_count    2375\n",
       "type            2375\n",
       "date            2375\n",
       "fare            2375\n",
       "ride_id         2375\n",
       "dtype: int64"
      ]
     },
     "execution_count": 32,
     "metadata": {},
     "output_type": "execute_result"
    }
   ],
   "source": [
    "pyber_data_complete.count()"
   ]
  },
  {
   "cell_type": "code",
   "execution_count": 33,
   "metadata": {},
   "outputs": [
    {
     "data": {
      "text/plain": [
       "city            2375\n",
       "driver_count    2375\n",
       "type            2375\n",
       "date            2375\n",
       "fare            2375\n",
       "ride_id         2375\n",
       "dtype: int64"
      ]
     },
     "execution_count": 33,
     "metadata": {},
     "output_type": "execute_result"
    }
   ],
   "source": [
    "no_null_pyber_data = pyber_data_complete.dropna(how='any')\n",
    "no_null_pyber_data.count()"
   ]
  },
  {
   "cell_type": "code",
   "execution_count": 34,
   "metadata": {},
   "outputs": [],
   "source": [
    "# SCATTER PLOT\n",
    "# The x and y coordinates for each of the three city types\n",
    "# Circle size = driver count per city\n",
    "# X axis = total number of rides per city\n",
    "# Y axis = average fare\n",
    "\n",
    "# Urban\n",
    "urban_bubble = pyber_data_complete.loc[pyber_data_complete[\"type\"]==\"Urban\"]\n",
    "urban_city = urban_bubble.groupby(\"city\")\n",
    "urban_rides = urban_city[\"ride_id\"].count()\n",
    "urban_fare = urban_city[\"fare\"].mean()\n",
    "urban_drivers = urban_city[\"driver_count\"].max()"
   ]
  },
  {
   "cell_type": "code",
   "execution_count": 35,
   "metadata": {},
   "outputs": [],
   "source": [
    "# Rural\n",
    "rural_bubble = pyber_data_complete.loc[pyber_data_complete[\"type\"]==\"Rural\"]\n",
    "rural_city = rural_bubble.groupby(\"city\")\n",
    "rural_rides = rural_city[\"ride_id\"].count()\n",
    "rural_fare = rural_city[\"fare\"].mean()\n",
    "rural_drivers = rural_city[\"driver_count\"].max()"
   ]
  },
  {
   "cell_type": "code",
   "execution_count": 36,
   "metadata": {},
   "outputs": [],
   "source": [
    "# Suburban\n",
    "suburban_bubble = pyber_data_complete.loc[pyber_data_complete[\"type\"]==\"Suburban\"]\n",
    "suburban_city = suburban_bubble.groupby(\"city\")\n",
    "suburban_rides = suburban_city[\"ride_id\"].count()\n",
    "suburban_fare = suburban_city[\"fare\"].mean()\n",
    "suburban_drivers = suburban_city[\"driver_count\"].max()"
   ]
  },
  {
   "cell_type": "code",
   "execution_count": 37,
   "metadata": {
    "scrolled": true
   },
   "outputs": [
    {
     "data": {
      "image/png": "[encoded data removed]",
      "text/plain": [
       "<Figure size 432x288 with 1 Axes>"
      ]
     },
     "metadata": {
      "needs_background": "light"
     },
     "output_type": "display_data"
    }
   ],
   "source": [
    "# Create and format scatter plot\n",
    "\n",
    "plt.scatter(urban_rides, urban_fare, s = urban_drivers*10, marker = \"o\", edgecolors = \"black\", facecolor = \"coral\", \n",
    "            alpha = 0.75, linewidth = 1.0)\n",
    "\n",
    "plt.scatter(suburban_rides, suburban_fare, s = suburban_drivers*10, marker = \"o\", edgecolors = \"black\", facecolor = \"skyblue\", \n",
    "            alpha = 0.75, linewidth = 1.0)\n",
    "\n",
    "plt.scatter(rural_rides, rural_fare, s = rural_drivers*10, marker = \"o\", edgecolors = \"black\", facecolor = \"gold\", \n",
    "            alpha = 0.75, linewidth = 1.0)\n",
    "\n",
    "plt.xlabel('Number of Rides per City')\n",
    "plt.ylabel('Average Fare per City ($)')\n",
    "plt.title('Pyber Ride Sharing Data (2016)')\n",
    "plt.text(42, 30, 'Note: Circle size correlates with driver count per city')\n",
    "\n",
    "plt.grid()\n",
    "\n",
    "plt.legend(pyber_data_complete[\"type\"].unique(), title=\"City Types\")\n",
    "\n",
    "# Save and display graph\n",
    "\n",
    "plt.savefig(\"../PyberRideDataBubblePlot.png\")\n",
    "\n",
    "plt.show()"
   ]
  },
  {
   "cell_type": "code",
   "execution_count": 38,
   "metadata": {},
   "outputs": [
    {
     "data": {
      "text/plain": [
       "2375"
      ]
     },
     "execution_count": 38,
     "metadata": {},
     "output_type": "execute_result"
    }
   ],
   "source": [
    "pyber_id = pyber_data_complete[\"ride_id\"].unique()\n",
    "new = len(pyber_id)\n",
    "new"
   ]
  },
  {
   "cell_type": "code",
   "execution_count": 39,
   "metadata": {},
   "outputs": [
    {
     "data": {
      "text/plain": [
       "2375"
      ]
     },
     "execution_count": 39,
     "metadata": {},
     "output_type": "execute_result"
    }
   ],
   "source": [
    "new1 = len(pyber_data_complete)\n",
    "new1"
   ]
  },
  {
   "cell_type": "code",
   "execution_count": 40,
   "metadata": {},
   "outputs": [
    {
     "data": {
      "text/html": [
       "<div>\n",
       "<style scoped>\n",
       "    .dataframe tbody tr th:only-of-type {\n",
       "        vertical-align: middle;\n",
       "    }\n",
       "\n",
       "    .dataframe tbody tr th {\n",
       "        vertical-align: top;\n",
       "    }\n",
       "\n",
       "    .dataframe thead th {\n",
       "        text-align: right;\n",
       "    }\n",
       "</style>\n",
       "<table border=\"1\" class=\"dataframe\">\n",
       "  <thead>\n",
       "    <tr style=\"text-align: right;\">\n",
       "      <th></th>\n",
       "      <th>driver_count</th>\n",
       "      <th>fare</th>\n",
       "      <th>ride_id</th>\n",
       "    </tr>\n",
       "    <tr>\n",
       "      <th>type</th>\n",
       "      <th></th>\n",
       "      <th></th>\n",
       "      <th></th>\n",
       "    </tr>\n",
       "  </thead>\n",
       "  <tbody>\n",
       "    <tr>\n",
       "      <th>Rural</th>\n",
       "      <td>537</td>\n",
       "      <td>4327.93</td>\n",
       "      <td>580968240341287</td>\n",
       "    </tr>\n",
       "    <tr>\n",
       "      <th>Suburban</th>\n",
       "      <td>8570</td>\n",
       "      <td>19356.33</td>\n",
       "      <td>3106884522576766</td>\n",
       "    </tr>\n",
       "    <tr>\n",
       "      <th>Urban</th>\n",
       "      <td>59602</td>\n",
       "      <td>39854.38</td>\n",
       "      <td>7919412664056093</td>\n",
       "    </tr>\n",
       "  </tbody>\n",
       "</table>\n",
       "</div>"
      ],
      "text/plain": [
       "          driver_count      fare           ride_id\n",
       "type                                              \n",
       "Rural              537   4327.93   580968240341287\n",
       "Suburban          8570  19356.33  3106884522576766\n",
       "Urban            59602  39854.38  7919412664056093"
      ]
     },
     "execution_count": 40,
     "metadata": {},
     "output_type": "execute_result"
    }
   ],
   "source": [
    "# TOTAL FARES BY CITY TYPE PIE\n",
    "# percent of the total \n",
    "\n",
    "# Group by city type\n",
    "city_type = pyber_data_complete.groupby('type').sum()\n",
    "city_type"
   ]
  },
  {
   "cell_type": "code",
   "execution_count": 41,
   "metadata": {},
   "outputs": [
    {
     "data": {
      "text/html": [
       "<div>\n",
       "<style scoped>\n",
       "    .dataframe tbody tr th:only-of-type {\n",
       "        vertical-align: middle;\n",
       "    }\n",
       "\n",
       "    .dataframe tbody tr th {\n",
       "        vertical-align: top;\n",
       "    }\n",
       "\n",
       "    .dataframe thead th {\n",
       "        text-align: right;\n",
       "    }\n",
       "</style>\n",
       "<table border=\"1\" class=\"dataframe\">\n",
       "  <thead>\n",
       "    <tr style=\"text-align: right;\">\n",
       "      <th></th>\n",
       "      <th>driver_count</th>\n",
       "      <th>fare</th>\n",
       "      <th>ride_id</th>\n",
       "    </tr>\n",
       "    <tr>\n",
       "      <th>type</th>\n",
       "      <th></th>\n",
       "      <th></th>\n",
       "      <th></th>\n",
       "    </tr>\n",
       "  </thead>\n",
       "  <tbody>\n",
       "    <tr>\n",
       "      <th>Rural</th>\n",
       "      <td>537</td>\n",
       "      <td>4327.93</td>\n",
       "      <td>580968240341287</td>\n",
       "    </tr>\n",
       "    <tr>\n",
       "      <th>Suburban</th>\n",
       "      <td>8570</td>\n",
       "      <td>19356.33</td>\n",
       "      <td>3106884522576766</td>\n",
       "    </tr>\n",
       "    <tr>\n",
       "      <th>Urban</th>\n",
       "      <td>59602</td>\n",
       "      <td>39854.38</td>\n",
       "      <td>7919412664056093</td>\n",
       "    </tr>\n",
       "  </tbody>\n",
       "</table>\n",
       "</div>"
      ],
      "text/plain": [
       "          driver_count      fare           ride_id\n",
       "type                                              \n",
       "Rural              537   4327.93   580968240341287\n",
       "Suburban          8570  19356.33  3106884522576766\n",
       "Urban            59602  39854.38  7919412664056093"
      ]
     },
     "execution_count": 41,
     "metadata": {},
     "output_type": "execute_result"
    }
   ],
   "source": [
    "# Group by city type with no-null data\n",
    "city_type = no_null_pyber_data.groupby('type').sum()\n",
    "city_type"
   ]
  },
  {
   "cell_type": "code",
   "execution_count": 42,
   "metadata": {},
   "outputs": [
    {
     "data": {
      "text/plain": [
       "63538.63999999999"
      ]
     },
     "execution_count": 42,
     "metadata": {},
     "output_type": "execute_result"
    }
   ],
   "source": [
    "# Get the sum of all fares\n",
    "total_fare = city_type['fare'].sum()\n",
    "total_fare"
   ]
  },
  {
   "cell_type": "code",
   "execution_count": 43,
   "metadata": {},
   "outputs": [
    {
     "data": {
      "text/plain": [
       "6.8114929749834126"
      ]
     },
     "execution_count": 43,
     "metadata": {},
     "output_type": "execute_result"
    }
   ],
   "source": [
    "# Rural Fare \n",
    "rural_fare = city_type.loc[\"Rural\", \"fare\"]\n",
    "#rural_fare #418.75\n",
    "\n",
    "percent_rural_fare = (rural_fare / total_fare) * 100\n",
    "percent_rural_fare #13.57"
   ]
  },
  {
   "cell_type": "code",
   "execution_count": 44,
   "metadata": {},
   "outputs": [
    {
     "data": {
      "text/plain": [
       "30.463872062732218"
      ]
     },
     "execution_count": 44,
     "metadata": {},
     "output_type": "execute_result"
    }
   ],
   "source": [
    "# Suburban Fare \n",
    "suburban_fare = city_type.loc[\"Suburban\", \"fare\"]\n",
    "#suburban_fare #972.98\n",
    "\n",
    "percent_suburban_fare = (suburban_fare / total_fare) * 100\n",
    "percent_suburban_fare #31.5"
   ]
  },
  {
   "cell_type": "code",
   "execution_count": 45,
   "metadata": {},
   "outputs": [
    {
     "data": {
      "text/plain": [
       "62.72463496228438"
      ]
     },
     "execution_count": 45,
     "metadata": {},
     "output_type": "execute_result"
    }
   ],
   "source": [
    "# Urban Fare\n",
    "urban_fare = city_type.loc[\"Urban\", \"fare\"]\n",
    "#urban_fare #1693.89\n",
    "\n",
    "percent_urban_fare = (urban_fare / total_fare) * 100\n",
    "percent_urban_fare #54.90"
   ]
  },
  {
   "cell_type": "code",
   "execution_count": 46,
   "metadata": {},
   "outputs": [
    {
     "data": {
      "image/png": "[encoded data removed]",
      "text/plain": [
       "<Figure size 432x288 with 1 Axes>"
      ]
     },
     "metadata": {},
     "output_type": "display_data"
    }
   ],
   "source": [
    "# Create Pie Chart\n",
    "percent_fare = [percent_rural_fare, percent_suburban_fare, percent_urban_fare]\n",
    "plt.title('% of Total Fares by City Type')\n",
    "fare_labels = [\"Rural\", \"Suburban\", \"Urban\"]\n",
    "fare_colors = [\"gold\", \"skyblue\", \"lightcoral\"]\n",
    "fare_explode = (0, 0, 0.1)\n",
    "\n",
    "plt.pie(percent_fare, explode=fare_explode, labels=fare_labels, colors=fare_colors,\n",
    "        autopct=\"%1.1f%%\", shadow=True, startangle=90)\n",
    "              \n",
    "plt.tight_layout()\n",
    "\n",
    "plt.savefig(\"../FarePieChart.png\")\n",
    "\n",
    "plt.show()"
   ]
  },
  {
   "cell_type": "code",
   "execution_count": 47,
   "metadata": {},
   "outputs": [],
   "source": [
    "by_city_type = pyber_data_complete.groupby('type')['type', 'fare', 'ride_id', 'driver_count']\n",
    "#by_city_type.head()"
   ]
  },
  {
   "cell_type": "code",
   "execution_count": 48,
   "metadata": {},
   "outputs": [
    {
     "data": {
      "text/plain": [
       "2375"
      ]
     },
     "execution_count": 48,
     "metadata": {},
     "output_type": "execute_result"
    }
   ],
   "source": [
    "# TOTAL RIDES BY CITY TYPE PIE\n",
    "total_rides_city = len(pyber_data_complete)\n",
    "total_rides_city"
   ]
  },
  {
   "cell_type": "code",
   "execution_count": 49,
   "metadata": {},
   "outputs": [
    {
     "data": {
      "text/plain": [
       "5.263157894736842"
      ]
     },
     "execution_count": 49,
     "metadata": {},
     "output_type": "execute_result"
    }
   ],
   "source": [
    "# Rural Rides\n",
    "rural_rides = pyber_data_complete.set_index('type').loc[\"Rural\", \"ride_id\"].count()\n",
    "\n",
    "percent_rural_rides = (rural_rides / total_rides_city) * 100\n",
    "percent_rural_rides"
   ]
  },
  {
   "cell_type": "code",
   "execution_count": 50,
   "metadata": {},
   "outputs": [
    {
     "data": {
      "text/plain": [
       "26.31578947368421"
      ]
     },
     "execution_count": 50,
     "metadata": {},
     "output_type": "execute_result"
    }
   ],
   "source": [
    "# Suburban Rides\n",
    "suburban_rides = pyber_data_complete.set_index('type').loc[\"Suburban\", \"ride_id\"].count()\n",
    "\n",
    "percent_suburban_rides = (suburban_rides / total_rides_city) * 100\n",
    "percent_suburban_rides"
   ]
  },
  {
   "cell_type": "code",
   "execution_count": 51,
   "metadata": {},
   "outputs": [
    {
     "data": {
      "text/plain": [
       "68.42105263157895"
      ]
     },
     "execution_count": 51,
     "metadata": {},
     "output_type": "execute_result"
    }
   ],
   "source": [
    "# Urban Rides\n",
    "urban_rides = pyber_data_complete.set_index('type').loc[\"Urban\", \"ride_id\"].count()\n",
    "\n",
    "percent_urban_rides = (urban_rides / total_rides_city) * 100\n",
    "percent_urban_rides\n"
   ]
  },
  {
   "cell_type": "code",
   "execution_count": 52,
   "metadata": {},
   "outputs": [
    {
     "data": {
      "image/png": "[encoded data removed]",
      "text/plain": [
       "<Figure size 432x288 with 1 Axes>"
      ]
     },
     "metadata": {},
     "output_type": "display_data"
    }
   ],
   "source": [
    "percent_rides = [percent_rural_rides, percent_suburban_rides, percent_urban_rides]\n",
    "plt.title('% of Total Rides by City Type')\n",
    "fare_labels = [\"Rural\", \"Suburban\", \"Urban\"]\n",
    "fare_colors = [\"gold\", \"skyblue\", \"lightcoral\"]\n",
    "fare_explode = (0, 0, 0.1)\n",
    "\n",
    "plt.pie(percent_rides, explode=fare_explode, labels=fare_labels, colors=fare_colors,\n",
    "        autopct=\"%1.1f%%\", shadow=True, startangle=90)\n",
    "              \n",
    "plt.tight_layout()\n",
    "\n",
    "plt.savefig(\"../RidesPieChart.png\")\n",
    "\n",
    "plt.show()\n",
    "\n"
   ]
  },
  {
   "cell_type": "code",
   "execution_count": 53,
   "metadata": {},
   "outputs": [
    {
     "data": {
      "text/html": [
       "<div>\n",
       "<style scoped>\n",
       "    .dataframe tbody tr th:only-of-type {\n",
       "        vertical-align: middle;\n",
       "    }\n",
       "\n",
       "    .dataframe tbody tr th {\n",
       "        vertical-align: top;\n",
       "    }\n",
       "\n",
       "    .dataframe thead th {\n",
       "        text-align: right;\n",
       "    }\n",
       "</style>\n",
       "<table border=\"1\" class=\"dataframe\">\n",
       "  <thead>\n",
       "    <tr style=\"text-align: right;\">\n",
       "      <th></th>\n",
       "      <th>driver_count</th>\n",
       "    </tr>\n",
       "    <tr>\n",
       "      <th>type</th>\n",
       "      <th></th>\n",
       "    </tr>\n",
       "  </thead>\n",
       "  <tbody>\n",
       "    <tr>\n",
       "      <th>Rural</th>\n",
       "      <td>78</td>\n",
       "    </tr>\n",
       "    <tr>\n",
       "      <th>Suburban</th>\n",
       "      <td>490</td>\n",
       "    </tr>\n",
       "    <tr>\n",
       "      <th>Urban</th>\n",
       "      <td>2405</td>\n",
       "    </tr>\n",
       "  </tbody>\n",
       "</table>\n",
       "</div>"
      ],
      "text/plain": [
       "          driver_count\n",
       "type                  \n",
       "Rural               78\n",
       "Suburban           490\n",
       "Urban             2405"
      ]
     },
     "execution_count": 53,
     "metadata": {},
     "output_type": "execute_result"
    }
   ],
   "source": [
    "# TOTAL DRIVERS BY CITY TYPE PIE\n",
    "# Calculate Driver Percents\n",
    "\n",
    "city_type = city_data.groupby('type').sum()\n",
    "city_type"
   ]
  },
  {
   "cell_type": "code",
   "execution_count": 54,
   "metadata": {},
   "outputs": [
    {
     "data": {
      "text/plain": [
       "2973"
      ]
     },
     "execution_count": 54,
     "metadata": {},
     "output_type": "execute_result"
    }
   ],
   "source": [
    "total_drivers = city_type['driver_count'].sum()\n",
    "total_drivers"
   ]
  },
  {
   "cell_type": "code",
   "execution_count": 55,
   "metadata": {},
   "outputs": [
    {
     "data": {
      "text/plain": [
       "2.6236125126135215"
      ]
     },
     "execution_count": 55,
     "metadata": {},
     "output_type": "execute_result"
    }
   ],
   "source": [
    "# Rural Drivers\n",
    "rural_drivers = city_type.loc[\"Rural\", \"driver_count\"]\n",
    "\n",
    "percent_rural_drivers = (rural_drivers / total_drivers) * 100\n",
    "percent_rural_drivers "
   ]
  },
  {
   "cell_type": "code",
   "execution_count": 56,
   "metadata": {},
   "outputs": [
    {
     "data": {
      "text/plain": [
       "16.481668348469558"
      ]
     },
     "execution_count": 56,
     "metadata": {},
     "output_type": "execute_result"
    }
   ],
   "source": [
    "# Suburban Drivers\n",
    "suburban_drivers = city_type.loc[\"Suburban\", \"driver_count\"]\n",
    "\n",
    "percent_suburban_drivers = (suburban_drivers / total_drivers) * 100\n",
    "percent_suburban_drivers "
   ]
  },
  {
   "cell_type": "code",
   "execution_count": 57,
   "metadata": {},
   "outputs": [
    {
     "data": {
      "text/plain": [
       "80.89471913891691"
      ]
     },
     "execution_count": 57,
     "metadata": {},
     "output_type": "execute_result"
    }
   ],
   "source": [
    "# Urban Drivers\n",
    "urban_drivers = city_type.loc[\"Urban\", \"driver_count\"]\n",
    "\n",
    "percent_urban_drivers = (urban_drivers / total_drivers) * 100\n",
    "percent_urban_drivers "
   ]
  },
  {
   "cell_type": "code",
   "execution_count": 58,
   "metadata": {},
   "outputs": [
    {
     "data": {
      "image/png": "[encoded data removed]",
      "text/plain": [
       "<Figure size 432x288 with 1 Axes>"
      ]
     },
     "metadata": {},
     "output_type": "display_data"
    }
   ],
   "source": [
    "percent_drivers = [percent_rural_drivers, percent_suburban_drivers, percent_urban_drivers]\n",
    "plt.title('% of Total Drivers by City Type')\n",
    "fare_labels = [\"Rural\", \"Suburban\", \"Urban\"]\n",
    "fare_colors = [\"gold\", \"skyblue\", \"lightcoral\"]\n",
    "fare_explode = (0, 0, 0.1)\n",
    "\n",
    "plt.pie(percent_drivers, explode=fare_explode, labels=fare_labels, colors=fare_colors,\n",
    "        autopct=\"%1.1f%%\", shadow=True, startangle=90)\n",
    "              \n",
    "plt.tight_layout()\n",
    "\n",
    "plt.savefig(\"../DriversPieChart.png\")\n",
    "\n",
    "plt.show()"
   ]
  },
  {
   "cell_type": "code",
   "execution_count": null,
   "metadata": {},
   "outputs": [],
   "source": []
  },
  {
   "cell_type": "code",
   "execution_count": null,
   "metadata": {},
   "outputs": [],
   "source": []
  }
 ],
 "metadata": {
  "kernelspec": {
   "display_name": "Python 3",
   "language": "python",
   "name": "python3"
  },
  "language_info": {
   "codemirror_mode": {
    "name": "ipython",
    "version": 3
   },
   "file_extension": ".py",
   "mimetype": "text/x-python",
   "name": "python",
   "nbconvert_exporter": "python",
   "pygments_lexer": "ipython3",
   "version": "3.6.7"
  }
 },
 "nbformat": 4,
 "nbformat_minor": 2
}
